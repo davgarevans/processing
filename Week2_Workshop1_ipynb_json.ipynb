{
  "nbformat": 4,
  "nbformat_minor": 0,
  "metadata": {
    "colab": {
      "provenance": [],
      "include_colab_link": true
    },
    "kernelspec": {
      "name": "python3",
      "display_name": "Python 3"
    },
    "language_info": {
      "name": "python"
    }
  },
  "cells": [
    {
      "cell_type": "markdown",
      "metadata": {
        "id": "view-in-github",
        "colab_type": "text"
      },
      "source": [
        "<a href=\"https://colab.research.google.com/github/davgarevans/processing/blob/master/Week2_Workshop1_ipynb_json.ipynb\" target=\"_parent\"><img src=\"https://colab.research.google.com/assets/colab-badge.svg\" alt=\"Open In Colab\"/></a>"
      ]
    },
    {
      "cell_type": "markdown",
      "source": [
        "# **Week2: Workshop1**\n",
        "\n",
        "### **Objectives:**\n",
        "  * Data Types (manipulation and operations)\n",
        "  * Array operations\n",
        "  * Arithmetic operations\n",
        "\n"
      ],
      "metadata": {
        "id": "7stZj75_PTvY"
      }
    },
    {
      "cell_type": "markdown",
      "metadata": {
        "id": "U5xoneOIeUkp"
      },
      "source": [
        "Python is dynamically-typed: variable names can point to objects of any type.\n",
        "\n",
        "This happens as variables are in fact pointers to objects. While objects have a specific type, variables can point to objects of any type. Below, we create a variable <code>x</code> and assign it (i.e., make it point) to an integer object with value 10. After that, we re-assign variable <code>x</code> so that it points to a string object."
      ]
    },
    {
      "cell_type": "code",
      "execution_count": 4,
      "metadata": {
        "id": "NO6-rbSleUkq"
      },
      "outputs": [],
      "source": [
        "x = 10\n",
        "x = 'hello'\n",
        "x = \"hello to show no differences between quote and double quote\""
      ]
    },
    {
      "cell_type": "markdown",
      "metadata": {
        "id": "pMNSOd_MeUks"
      },
      "source": [
        "**Q1 : Can you concatenate the strings <code>a</code>, <code>b</code> and <code>c</code>?**"
      ]
    },
    {
      "cell_type": "code",
      "execution_count": 5,
      "metadata": {
        "id": "Ekoly-coeUkr",
        "colab": {
          "base_uri": "https://localhost:8080/"
        },
        "outputId": "33e7deb8-dbc4-4587-ebf2-42099f718b2d"
      },
      "outputs": [
        {
          "output_type": "stream",
          "name": "stdout",
          "text": [
            "Name name is R2D2.\n"
          ]
        }
      ],
      "source": [
        "a = \"Name name is\"\n",
        "b = \" R2D2\"\n",
        "c = \".\"\n",
        "\n",
        "print (a + b + c)"
      ]
    },
    {
      "cell_type": "code",
      "execution_count": 6,
      "metadata": {
        "id": "mGAydBhSeUks"
      },
      "outputs": [],
      "source": [
        "#Solution to Q1\n"
      ]
    },
    {
      "cell_type": "markdown",
      "metadata": {
        "id": "I8SbJx54eUkq"
      },
      "source": [
        "**Q2: Can you generete a string equal to x but with all characters in upper case?**\n",
        "\n",
        "*Remember how to use Tab to auto-complete and check methods available to strings with x.*"
      ]
    },
    {
      "cell_type": "markdown",
      "source": [],
      "metadata": {
        "id": "1kwILcRHEDVJ"
      }
    },
    {
      "cell_type": "code",
      "execution_count": 7,
      "metadata": {
        "id": "pSRDXSSgeUkq",
        "colab": {
          "base_uri": "https://localhost:8080/"
        },
        "outputId": "fe61b281-9843-47f1-d281-af4d12a760fc"
      },
      "outputs": [
        {
          "output_type": "stream",
          "name": "stdout",
          "text": [
            "HELLO TO SHOW NO DIFFERENCES BETWEEN QUOTE AND DOUBLE QUOTE\n"
          ]
        }
      ],
      "source": [
        "# Solution to Q2\n",
        "x = x.upper()\n",
        "print (x)"
      ]
    },
    {
      "cell_type": "markdown",
      "metadata": {
        "id": "AXt4TRS2eUkr"
      },
      "source": [
        "**Q3: Can you split string x given words separated by spaces?**"
      ]
    },
    {
      "cell_type": "code",
      "execution_count": 8,
      "metadata": {
        "id": "35_tu6cDeUkr",
        "colab": {
          "base_uri": "https://localhost:8080/"
        },
        "outputId": "3af2a47d-c075-48a1-ed7c-4160403f858e"
      },
      "outputs": [
        {
          "output_type": "stream",
          "name": "stdout",
          "text": [
            "['HELLO', 'TO', 'SHOW', 'NO', 'DIFFERENCES', 'BETWEEN', 'QUOTE', 'AND', 'DOUBLE', 'QUOTE']\n"
          ]
        }
      ],
      "source": [
        "# Solution to Q3\n",
        "x = x.split()\n",
        "print (x)\n",
        "\n"
      ]
    },
    {
      "cell_type": "markdown",
      "metadata": {
        "id": "HtBT0wHeeUks"
      },
      "source": [
        "**Q4: Can you repeat string <code>b</code> 10 times using a maximum of 3 characters?**"
      ]
    },
    {
      "cell_type": "code",
      "execution_count": 9,
      "metadata": {
        "id": "hv5hFKLweUks",
        "colab": {
          "base_uri": "https://localhost:8080/"
        },
        "outputId": "1957bc76-f82e-46d0-fe7c-a9cb947d41e7"
      },
      "outputs": [
        {
          "output_type": "stream",
          "name": "stdout",
          "text": [
            "CMP7005CMP7005CMP7005CMP7005CMP7005CMP7005CMP7005CMP7005CMP7005CMP7005\n"
          ]
        }
      ],
      "source": [
        "# Solution to Q5\n",
        "b = 'CMP7005'\n",
        "\n",
        "print (10*b)"
      ]
    },
    {
      "cell_type": "markdown",
      "metadata": {
        "id": "9YWB774EeUki"
      },
      "source": [
        "<h1><center> Part I: Lists </center></h1>"
      ]
    },
    {
      "cell_type": "code",
      "execution_count": 39,
      "metadata": {
        "id": "wS2T0i3NeUkx",
        "colab": {
          "base_uri": "https://localhost:8080/",
          "height": 35
        },
        "outputId": "285a4589-3937-4a30-8b55-ece0fcc1c397"
      },
      "outputs": [
        {
          "output_type": "execute_result",
          "data": {
            "text/plain": [
              "'kiwi'"
            ],
            "application/vnd.google.colaboratory.intrinsic+json": {
              "type": "string"
            }
          },
          "metadata": {},
          "execution_count": 39
        }
      ],
      "source": [
        "fruits = ['orange', 'apple', 'pear', 'banana', 'kiwi', 'apple', 'banana']\n",
        "fruits[4]"
      ]
    },
    {
      "cell_type": "code",
      "execution_count": 40,
      "metadata": {
        "id": "YVdHS1JneUky",
        "colab": {
          "base_uri": "https://localhost:8080/"
        },
        "outputId": "1c5a7ef8-54a5-4461-f0ef-f8954258a096"
      },
      "outputs": [
        {
          "output_type": "execute_result",
          "data": {
            "text/plain": [
              "['pear', 'banana', 'kiwi']"
            ]
          },
          "metadata": {},
          "execution_count": 40
        }
      ],
      "source": [
        "fruits[2:5]"
      ]
    },
    {
      "cell_type": "code",
      "execution_count": 41,
      "metadata": {
        "id": "PZvpRbuTeUky",
        "colab": {
          "base_uri": "https://localhost:8080/"
        },
        "outputId": "16b0ed67-07a3-489b-9694-34a1d9926045"
      },
      "outputs": [
        {
          "output_type": "execute_result",
          "data": {
            "text/plain": [
              "2"
            ]
          },
          "metadata": {},
          "execution_count": 41
        }
      ],
      "source": [
        "fruits.count('apple')"
      ]
    },
    {
      "cell_type": "code",
      "execution_count": 42,
      "metadata": {
        "id": "2iVKkFn9eUky",
        "colab": {
          "base_uri": "https://localhost:8080/"
        },
        "outputId": "e58e59e7-3617-4dcb-cd04-abbf3bcf243f"
      },
      "outputs": [
        {
          "output_type": "execute_result",
          "data": {
            "text/plain": [
              "3"
            ]
          },
          "metadata": {},
          "execution_count": 42
        }
      ],
      "source": [
        "fruits.index('banana')"
      ]
    },
    {
      "cell_type": "code",
      "execution_count": 43,
      "metadata": {
        "id": "lwOU5fUmeUkz",
        "colab": {
          "base_uri": "https://localhost:8080/"
        },
        "outputId": "39bd6489-8b47-4017-ba44-86a5c883dff1"
      },
      "outputs": [
        {
          "output_type": "execute_result",
          "data": {
            "text/plain": [
              "True"
            ]
          },
          "metadata": {},
          "execution_count": 43
        }
      ],
      "source": [
        "'apple' in fruits"
      ]
    },
    {
      "cell_type": "code",
      "execution_count": 44,
      "metadata": {
        "id": "_hBwXr0GeUkz",
        "colab": {
          "base_uri": "https://localhost:8080/"
        },
        "outputId": "8244e42d-918b-45fc-a6ce-c25accd58e38"
      },
      "outputs": [
        {
          "output_type": "execute_result",
          "data": {
            "text/plain": [
              "['apple', 'apple', 'banana', 'banana', 'kiwi', 'orange', 'pear']"
            ]
          },
          "metadata": {},
          "execution_count": 44
        }
      ],
      "source": [
        "fruits.sort()\n",
        "fruits"
      ]
    },
    {
      "cell_type": "code",
      "execution_count": 45,
      "metadata": {
        "id": "bM9TLmi5eUk0",
        "colab": {
          "base_uri": "https://localhost:8080/"
        },
        "outputId": "39812894-4c5c-41f2-f1d7-68313b5127e7"
      },
      "outputs": [
        {
          "output_type": "execute_result",
          "data": {
            "text/plain": [
              "7"
            ]
          },
          "metadata": {},
          "execution_count": 45
        }
      ],
      "source": [
        "len(fruits)"
      ]
    },
    {
      "cell_type": "code",
      "execution_count": 46,
      "metadata": {
        "id": "g4Wti-8leUk0",
        "colab": {
          "base_uri": "https://localhost:8080/"
        },
        "outputId": "bf39bd94-c8d9-4520-c486-834a9089eba5"
      },
      "outputs": [
        {
          "output_type": "execute_result",
          "data": {
            "text/plain": [
              "['apple', 'apple', 'banana', 'banana', 'kiwi', 'orange', 'pear', 100]"
            ]
          },
          "metadata": {},
          "execution_count": 46
        }
      ],
      "source": [
        "fruits += [100]\n",
        "fruits"
      ]
    },
    {
      "cell_type": "markdown",
      "metadata": {
        "id": "KW3e6-ApeUk0"
      },
      "source": [
        "**Q1: Can you work out how to insert a new object ('strawberry') in the below defined position in the list?**"
      ]
    },
    {
      "cell_type": "code",
      "execution_count": 47,
      "metadata": {
        "id": "ZHJQXUGpeUk0",
        "colab": {
          "base_uri": "https://localhost:8080/"
        },
        "outputId": "71b203f4-d162-41b4-c8c4-0f2f8f9f4aa3"
      },
      "outputs": [
        {
          "output_type": "execute_result",
          "data": {
            "text/plain": [
              "['apple',\n",
              " 'apple',\n",
              " 'banana',\n",
              " 'banana',\n",
              " 'kiwi',\n",
              " 'orange',\n",
              " 'pear',\n",
              " 'strawberry',\n",
              " 100]"
            ]
          },
          "metadata": {},
          "execution_count": 47
        }
      ],
      "source": [
        "# Solution to Q1\n",
        "fruits.insert(7, 'strawberry')\n",
        "fruits"
      ]
    },
    {
      "cell_type": "markdown",
      "metadata": {
        "id": "bJqv57XeeUk2"
      },
      "source": [
        "**Q2: Indexing: Can you write code to select elements of x from the 3rd to the second-last element (inclusive)?**"
      ]
    },
    {
      "cell_type": "code",
      "execution_count": 38,
      "metadata": {
        "id": "IK8rEplWeUk2"
      },
      "outputs": [],
      "source": [
        "# Solution to Q2:\n",
        "x = [1, 2, 3, 4, 5, 6, 7, 8] # say x is the given list"
      ]
    },
    {
      "cell_type": "code",
      "source": [
        "x[2:-2]"
      ],
      "metadata": {
        "id": "ofOgYl3h7xyr",
        "colab": {
          "base_uri": "https://localhost:8080/"
        },
        "outputId": "4284c5ad-a4d2-4876-a593-199186a94dab"
      },
      "execution_count": 49,
      "outputs": [
        {
          "output_type": "execute_result",
          "data": {
            "text/plain": [
              "[3, 4, 5, 6]"
            ]
          },
          "metadata": {},
          "execution_count": 49
        }
      ]
    },
    {
      "cell_type": "markdown",
      "metadata": {
        "id": "Q9U20YrXozcf"
      },
      "source": [
        "**Q3(A):Can you write code to select elements of x in even positions (0, 2, 4, 6 ...) using indexing?**"
      ]
    },
    {
      "cell_type": "code",
      "execution_count": 81,
      "metadata": {
        "id": "ryfr8nnLeUk3"
      },
      "outputs": [],
      "source": [
        "# Solution to Q3:\n",
        "x = [1, 2, 3, 4, 5, 6, 7, 8] # say x is the given list"
      ]
    },
    {
      "cell_type": "code",
      "source": [
        "x[::2]"
      ],
      "metadata": {
        "id": "EmFz9f7970h7",
        "colab": {
          "base_uri": "https://localhost:8080/"
        },
        "outputId": "a5ee4935-01a6-4529-afa9-e0ba6079a105"
      },
      "execution_count": 79,
      "outputs": [
        {
          "output_type": "execute_result",
          "data": {
            "text/plain": [
              "[1, 3, 5, 7]"
            ]
          },
          "metadata": {},
          "execution_count": 79
        }
      ]
    },
    {
      "cell_type": "markdown",
      "source": [
        "**Q3(B):Can you write code to find even numbers in the list using indexing?**"
      ],
      "metadata": {
        "id": "dV-7w_J5oe03"
      }
    },
    {
      "cell_type": "code",
      "source": [
        " # finding even numbers in the list\n",
        "even = []\n",
        " for i in x:\n",
        "  if i % 2 == 0: even.append(i)\n",
        "even"
      ],
      "metadata": {
        "colab": {
          "base_uri": "https://localhost:8080/"
        },
        "id": "0NGgYZn796Np",
        "outputId": "0bfcf249-43eb-4dfd-921e-a01fe5c55f78"
      },
      "execution_count": 83,
      "outputs": [
        {
          "output_type": "execute_result",
          "data": {
            "text/plain": [
              "[2, 4, 6, 8]"
            ]
          },
          "metadata": {},
          "execution_count": 83
        }
      ]
    },
    {
      "cell_type": "markdown",
      "metadata": {
        "id": "oP-UGxPdpDmg"
      },
      "source": [
        "**Q4 (A):Can you write code to select elements of x in odd positions (1, 3, 5...) in reverse order using indexing?**"
      ]
    },
    {
      "cell_type": "code",
      "execution_count": 22,
      "metadata": {
        "id": "BmiHg-vMeUk3"
      },
      "outputs": [],
      "source": [
        "# Solution to Q4:\n",
        "x = [1, 2, 3, 4, 5, 6, 7, 8] # say x is the given list\n"
      ]
    },
    {
      "cell_type": "code",
      "source": [
        "x[-2::-2]"
      ],
      "metadata": {
        "id": "HDdDFuDs7_rZ",
        "colab": {
          "base_uri": "https://localhost:8080/"
        },
        "outputId": "afd09104-f442-4760-c637-af44b97083a7"
      },
      "execution_count": 94,
      "outputs": [
        {
          "output_type": "execute_result",
          "data": {
            "text/plain": [
              "[8, 6, 4, 2]"
            ]
          },
          "metadata": {},
          "execution_count": 94
        }
      ]
    },
    {
      "cell_type": "markdown",
      "source": [
        "**Q4(B):Can you write code to find odd numbers in the list using indexing?**"
      ],
      "metadata": {
        "id": "QwUY21m0Dt-N"
      }
    },
    {
      "cell_type": "code",
      "source": [
        "\n"
      ],
      "metadata": {
        "id": "Ly3T-udkpMBA"
      },
      "execution_count": 22,
      "outputs": []
    },
    {
      "cell_type": "code",
      "source": [
        " # finding even numbers in the list\n",
        "odd = []\n",
        " for i in x:\n",
        "  if i % 2 != 0: odd.append(i)\n",
        "odd"
      ],
      "metadata": {
        "colab": {
          "base_uri": "https://localhost:8080/"
        },
        "outputId": "27350689-4520-4847-8fcb-00235ed1e418",
        "id": "iSqtGffCDWEN"
      },
      "execution_count": 97,
      "outputs": [
        {
          "output_type": "execute_result",
          "data": {
            "text/plain": [
              "[1, 3, 5, 7]"
            ]
          },
          "metadata": {},
          "execution_count": 97
        }
      ]
    },
    {
      "cell_type": "markdown",
      "metadata": {
        "id": "pgI59LIieUk2"
      },
      "source": [
        "**Q5: Write code that prints 'a not contained in x' if <code>a</code> is not contained in <code>x</code>.**"
      ]
    },
    {
      "cell_type": "code",
      "execution_count": 23,
      "metadata": {
        "id": "bZAZCM2keUk1"
      },
      "outputs": [],
      "source": [
        "#Given the following list\n",
        "x = [1, 2, 3, 4, 5, 6, 7, 8]\n",
        "a = 6.2"
      ]
    },
    {
      "cell_type": "code",
      "execution_count": 24,
      "metadata": {
        "id": "VYfllHWzeUk2"
      },
      "outputs": [],
      "source": [
        "# Solution to Q4:\n"
      ]
    },
    {
      "cell_type": "markdown",
      "metadata": {
        "id": "xq3gMli_eUk3"
      },
      "source": [
        "<h2><center> Tuple </center></h2>\n",
        "\n",
        "Ordered and **immutable** collection. Values within (square brackets) and comma-separated."
      ]
    },
    {
      "cell_type": "code",
      "execution_count": 25,
      "metadata": {
        "outputId": "dd717818-7291-47bf-ec0e-734b8249e9f7",
        "id": "mpGcF0e0Nlv8",
        "colab": {
          "base_uri": "https://localhost:8080/",
          "height": 159
        }
      },
      "outputs": [
        {
          "output_type": "error",
          "ename": "TypeError",
          "evalue": "'tuple' object does not support item assignment",
          "traceback": [
            "\u001b[0;31m---------------------------------------------------------------------------\u001b[0m",
            "\u001b[0;31mTypeError\u001b[0m                                 Traceback (most recent call last)",
            "\u001b[0;32m<ipython-input-25-38c3e42b9c50>\u001b[0m in \u001b[0;36m<cell line: 0>\u001b[0;34m()\u001b[0m\n\u001b[1;32m      1\u001b[0m \u001b[0mt\u001b[0m \u001b[0;34m=\u001b[0m \u001b[0;34m(\u001b[0m\u001b[0;36m1\u001b[0m\u001b[0;34m,\u001b[0m\u001b[0;36m2\u001b[0m\u001b[0;34m,\u001b[0m\u001b[0;36m3\u001b[0m\u001b[0;34m)\u001b[0m\u001b[0;34m\u001b[0m\u001b[0;34m\u001b[0m\u001b[0m\n\u001b[0;32m----> 2\u001b[0;31m \u001b[0mt\u001b[0m\u001b[0;34m[\u001b[0m\u001b[0;36m2\u001b[0m\u001b[0;34m]\u001b[0m \u001b[0;34m=\u001b[0m \u001b[0;36m5\u001b[0m\u001b[0;34m\u001b[0m\u001b[0;34m\u001b[0m\u001b[0m\n\u001b[0m",
            "\u001b[0;31mTypeError\u001b[0m: 'tuple' object does not support item assignment"
          ]
        }
      ],
      "source": [
        "t = (1,2,3)\n",
        "t[2] = 5"
      ]
    },
    {
      "cell_type": "markdown",
      "metadata": {
        "id": "sDfOm6Z_Nlv8"
      },
      "source": [
        "**Q1: The previous cell should generate a TypeError. Can you explain why? Can you create a list with the same values as <code>t</code> and assign 5 to position 2 of the newly created list?**"
      ]
    },
    {
      "cell_type": "code",
      "execution_count": null,
      "metadata": {
        "id": "Wp45pkhqNlv8"
      },
      "outputs": [],
      "source": [
        "#Soluton to Q8:\n",
        "\n",
        "# Error as t is a Tuple and Tuples are immutable\n",
        "# A tuple offers a guarantee that a particular collection of objects will remain fixed\n",
        "\n",
        "l = list(t)\n",
        "l[2] = 5\n",
        "l"
      ]
    },
    {
      "cell_type": "markdown",
      "metadata": {
        "id": "WITPYRddeUk4"
      },
      "source": [
        "<h2><center> Dictionaries </center></h2>\n",
        "\n",
        "Dictionaries play a key role in Python and (as we will see in future labs) in Pandas.\n",
        "\n",
        "Dictionaries are **mappings between key and values**."
      ]
    },
    {
      "cell_type": "code",
      "execution_count": null,
      "metadata": {
        "id": "8jhwOlINeUk4"
      },
      "outputs": [],
      "source": [
        "tel = {'jack': 4098, 'mary': 4139}\n",
        "tel['guido'] = 4127\n",
        "tel"
      ]
    },
    {
      "cell_type": "code",
      "execution_count": null,
      "metadata": {
        "id": "QPNZgHmeeUk4"
      },
      "outputs": [],
      "source": [
        "tel['jack']"
      ]
    },
    {
      "cell_type": "code",
      "execution_count": null,
      "metadata": {
        "id": "ZxklxsNueUk4"
      },
      "outputs": [],
      "source": [
        "tel.keys()"
      ]
    },
    {
      "cell_type": "code",
      "execution_count": null,
      "metadata": {
        "id": "vERlC3T7eUk4"
      },
      "outputs": [],
      "source": [
        "'guido' in tel\n",
        "True"
      ]
    },
    {
      "cell_type": "markdown",
      "metadata": {
        "id": "a1sfJhMZeUk4"
      },
      "source": [
        "<h2><center>Sets</center></h2>\n",
        "\n",
        "**Unordered** collections of **unique** items. Values within {curly brackets} and comma-separated. You can apply well-known set functions: union, intersection..."
      ]
    },
    {
      "cell_type": "code",
      "execution_count": null,
      "metadata": {
        "id": "E3vxt7sVeUk4"
      },
      "outputs": [],
      "source": [
        "primes = {2, 3, 5, 7}\n",
        "odds = set(range(1,10,2))\n",
        "odds"
      ]
    },
    {
      "cell_type": "code",
      "execution_count": null,
      "metadata": {
        "id": "axtMbgHUeUk5"
      },
      "outputs": [],
      "source": [
        "primes | odds"
      ]
    },
    {
      "cell_type": "code",
      "execution_count": null,
      "metadata": {
        "id": "fB6h0Ov8eUk5"
      },
      "outputs": [],
      "source": [
        "primes & odds"
      ]
    },
    {
      "cell_type": "code",
      "execution_count": null,
      "metadata": {
        "id": "HeQUv4YJeUk5"
      },
      "outputs": [],
      "source": [
        "odds - primes"
      ]
    },
    {
      "cell_type": "markdown",
      "metadata": {
        "id": "gQS7lbP9eUk5"
      },
      "source": [
        "**Q1: Can you write 1-line of code to count the number of integers from 0 to 10 that are prime and even?**"
      ]
    },
    {
      "cell_type": "code",
      "execution_count": null,
      "metadata": {
        "id": "ngmox-6IeUk5"
      },
      "outputs": [],
      "source": [
        "# Solution Q1:\n"
      ]
    },
    {
      "cell_type": "markdown",
      "metadata": {
        "id": "BoMUo7KEeUk8"
      },
      "source": [
        "# **Array**: Refer to this (https://www.programiz.com/python-programming/numpy/array-creation) for further reading"
      ]
    },
    {
      "cell_type": "code",
      "execution_count": null,
      "metadata": {
        "id": "WXgmUzVyeUk8"
      },
      "outputs": [],
      "source": [
        "# Create a NumPy array from a Python list:\n",
        "import numpy as np\n",
        "list_of_numbers = [10,11,12,13,14,15,16,17,18]\n"
      ]
    },
    {
      "cell_type": "code",
      "execution_count": null,
      "metadata": {
        "id": "HqIX_flOeUk8"
      },
      "outputs": [],
      "source": [
        "# Create a NumPy array with the NumPy method np.arange between 10-19\n",
        "\n"
      ]
    },
    {
      "cell_type": "code",
      "execution_count": null,
      "metadata": {
        "id": "-pcO2qqpeUk9"
      },
      "outputs": [],
      "source": [
        "print(numpy_array_of_numbers.shape,another_numpy_array.shape)"
      ]
    },
    {
      "cell_type": "markdown",
      "metadata": {
        "id": "fjrKYUZDeUk9"
      },
      "source": [
        "**Q1: Can you make a numpy array of only even numbers between 10 and 20 (inclusive), without using a loop?**"
      ]
    },
    {
      "cell_type": "code",
      "execution_count": null,
      "metadata": {
        "id": "wYNLRvCzeUk9"
      },
      "outputs": [],
      "source": [
        "# Solution to Q1\n"
      ]
    },
    {
      "cell_type": "markdown",
      "metadata": {
        "id": "Jy2bjB4ZeUk9"
      },
      "source": [
        "<h2><center> Indexing and slicing </center></h2>"
      ]
    },
    {
      "cell_type": "code",
      "execution_count": null,
      "metadata": {
        "id": "2Kk4AJwFeUk9"
      },
      "outputs": [],
      "source": [
        "yet_another_numpy_array = np.array([20,21,22,23,24,25,26,27,28,29])\n",
        "yet_another_numpy_array"
      ]
    },
    {
      "cell_type": "code",
      "execution_count": null,
      "metadata": {
        "id": "1ENhq1xzeUk9"
      },
      "outputs": [],
      "source": [
        "yet_another_numpy_array[5]"
      ]
    },
    {
      "cell_type": "code",
      "execution_count": null,
      "metadata": {
        "id": "P302XPdXeUk9"
      },
      "outputs": [],
      "source": [
        "yet_another_numpy_array[3:]"
      ]
    },
    {
      "cell_type": "code",
      "execution_count": null,
      "metadata": {
        "id": "B7L30E0heUk9"
      },
      "outputs": [],
      "source": [
        "yet_another_numpy_array[:-2]"
      ]
    },
    {
      "cell_type": "code",
      "execution_count": null,
      "metadata": {
        "id": "SRVWyN4HeUk9"
      },
      "outputs": [],
      "source": [
        "yet_another_numpy_array[[True,True,True,True,False,False,False,False,False,False]] #boolean array as mask"
      ]
    },
    {
      "cell_type": "code",
      "execution_count": null,
      "metadata": {
        "id": "Pkj6QkF1eUk9"
      },
      "outputs": [],
      "source": [
        "yet_another_numpy_array[yet_another_numpy_array > 24] #boolean array as mask"
      ]
    },
    {
      "cell_type": "code",
      "execution_count": null,
      "metadata": {
        "id": "LJUVssAneUk9"
      },
      "outputs": [],
      "source": [
        "yet_another_numpy_array[[0,4,5]] #fancy indexing"
      ]
    },
    {
      "cell_type": "markdown",
      "metadata": {
        "id": "1UzReWfheUk9"
      },
      "source": [
        "**Q2: How would you select only values between the \"4th from last\" to the \"2nd from last\" entries of this array?**"
      ]
    },
    {
      "cell_type": "code",
      "execution_count": null,
      "metadata": {
        "id": "ll5s8YtNeUk-"
      },
      "outputs": [],
      "source": [
        "#Solution to Q2\n",
        "\n"
      ]
    },
    {
      "cell_type": "markdown",
      "source": [
        "# **3D-array Indexing** (https://www.programiz.com/python-programming/numpy/array-indexing)"
      ],
      "metadata": {
        "id": "S4zmv8cnCNkN"
      }
    },
    {
      "cell_type": "code",
      "execution_count": null,
      "metadata": {
        "id": "kslS3niOpj3g"
      },
      "outputs": [],
      "source": [
        "array1 = np.array([[[\"John\", \"Ron\", \"Sean\"],\n",
        "                  [\"Margaret\", \"Rachel\", \"Jim\"],\n",
        "                  [\"Angel\", \"Joey\", \"Tom\"]],\n",
        "\n",
        "                 [[\"Max\", \"Maxine\", \"Richard\"],\n",
        "                  [\"Barton \", \"Flynn\", \"Simon\"],\n",
        "                  [\"Bob\", \"Leo\", \"Kimn\"]],\n",
        "\n",
        "                 [[\"Wayne\", \"Sarah\", \"Lucy\"],\n",
        "                  [\"Lucy\", \"Kurtis\", \"Yu\"],\n",
        "                  [\"Jack\", \"Lex\", \"Alex\"]]])\n",
        "print(array1)"
      ]
    },
    {
      "cell_type": "code",
      "execution_count": null,
      "metadata": {
        "id": "dg6AS5X7pj3h"
      },
      "outputs": [],
      "source": [
        "array1.shape"
      ]
    },
    {
      "cell_type": "code",
      "execution_count": null,
      "metadata": {
        "id": "KsgXwqtmpj3h"
      },
      "outputs": [],
      "source": [
        "array1.size"
      ]
    },
    {
      "cell_type": "markdown",
      "source": [
        "**General Access Syntax:** array1[block_index][row_index][column_index]\n"
      ],
      "metadata": {
        "id": "XobO4KAvLk2x"
      }
    },
    {
      "cell_type": "code",
      "execution_count": null,
      "metadata": {
        "id": "eiMH27Nvd3wT"
      },
      "outputs": [],
      "source": [
        "array1 = np.array([[[\"John\", \"Ron\", \"Sean\"],\n",
        "                  [\"Margaret\", \"Rachel\", \"Jim\"],\n",
        "                  [\"Angel\", \"Joey\", \"Tom\"]],\n",
        "\n",
        "                 [[\"Max\", \"Maxine\", \"Richard\"],\n",
        "                  [\"Barton \", \"Flynn\", \"Simon\"],\n",
        "                  [\"Bob\", \"Leo\", \"Kimn\"]],\n",
        "\n",
        "                 [[\"Wayne\", \"Sarah\", \"Lucy\"],\n",
        "                  [\"Lucy\", \"Kurtis\", \"Yu\"],\n",
        "                  [\"Jack\", \"Lex\", \"Alex\"]]])\n",
        "print(array1)"
      ]
    },
    {
      "cell_type": "code",
      "execution_count": null,
      "metadata": {
        "id": "-PLI48F_d3wU"
      },
      "outputs": [],
      "source": [
        "array1.shape"
      ]
    },
    {
      "cell_type": "code",
      "execution_count": null,
      "metadata": {
        "id": "hcmv5I8Wd3wU"
      },
      "outputs": [],
      "source": [
        "array1.size"
      ]
    },
    {
      "cell_type": "markdown",
      "source": [
        "**Accessing Individual element**"
      ],
      "metadata": {
        "id": "Lf_vM0pdeDU-"
      }
    },
    {
      "cell_type": "code",
      "source": [
        "# First element of the first block\n",
        "print(array1[0][0][0])\n",
        "\n",
        "# Middle element of the second row in the second block\n",
        "print(array1[1][1][1])\n",
        "\n",
        "#Last element of the last block\n",
        "print(array1[2][2][2])\n"
      ],
      "metadata": {
        "id": "TQI2IAx8MLef"
      },
      "execution_count": null,
      "outputs": []
    },
    {
      "cell_type": "markdown",
      "source": [
        "**Accessing Entire Rows**"
      ],
      "metadata": {
        "id": "hZBGE0nzYlN5"
      }
    },
    {
      "cell_type": "code",
      "source": [
        "# Entire first row of the first block\n",
        "print(array1[0][0])\n",
        "\n",
        "# Entire second row of the third block\n",
        "print(array1[2][1])"
      ],
      "metadata": {
        "id": "ii5dGloVYYtS"
      },
      "execution_count": null,
      "outputs": []
    },
    {
      "cell_type": "markdown",
      "source": [
        "**Accessing Entire Blocks**"
      ],
      "metadata": {
        "id": "qwbPRs9WZVV7"
      }
    },
    {
      "cell_type": "code",
      "source": [
        "#Entire third block:\n",
        "print(array1 [2])\n",
        "print(array1[0])\n"
      ],
      "metadata": {
        "id": "J1RG2FBUZczm"
      },
      "execution_count": null,
      "outputs": []
    },
    {
      "cell_type": "markdown",
      "source": [
        "**Slicing the Array**"
      ],
      "metadata": {
        "id": "iYnqM6E5aUAN"
      }
    },
    {
      "cell_type": "code",
      "source": [
        "#Access the first column of each row from the third block:\n",
        "array1[2, :, 0]"
      ],
      "metadata": {
        "id": "xJ_DJjT0agtN"
      },
      "execution_count": null,
      "outputs": []
    },
    {
      "cell_type": "code",
      "source": [
        "# Access all names from the second column of each row across all blocks:\n",
        "array1[:, :, 1]"
      ],
      "metadata": {
        "id": "ux-XtPLyawzd"
      },
      "execution_count": null,
      "outputs": []
    },
    {
      "cell_type": "markdown",
      "source": [
        "**Fancy Indexing:**"
      ],
      "metadata": {
        "id": "crFf8R85c1YM"
      }
    },
    {
      "cell_type": "code",
      "source": [
        "#You can also access specific elements from different locations using a list of indices.\n",
        "array1[[0, 1], [0, 1], [0, 1]]"
      ],
      "metadata": {
        "id": "Lhk-uajtcBrk"
      },
      "execution_count": null,
      "outputs": []
    },
    {
      "cell_type": "markdown",
      "metadata": {
        "id": "5_9YE8XvjTRu"
      },
      "source": [
        "**Q3: How would you select only values of the last row starting from Wayne up to Alez?**"
      ]
    },
    {
      "cell_type": "code",
      "execution_count": null,
      "metadata": {
        "id": "TB_z9J6Cpj3h"
      },
      "outputs": [],
      "source": [
        "#Solution to Q3\n"
      ]
    },
    {
      "cell_type": "markdown",
      "metadata": {
        "id": "7gRixi4fjTRu"
      },
      "source": [
        "**Q4: How would you select Middle column, all rows, but don't flatten; keep matrix shape**"
      ]
    },
    {
      "cell_type": "code",
      "execution_count": null,
      "metadata": {
        "id": "4XrRKBG-pj3h"
      },
      "outputs": [],
      "source": [
        "#Solution to Q4\n",
        "# When a list is used for choosing the column, the dimension is kept\n"
      ]
    },
    {
      "cell_type": "markdown",
      "metadata": {
        "id": "MOzmqI1hpj3h"
      },
      "source": [
        "### switch the [row,column]"
      ]
    },
    {
      "cell_type": "code",
      "execution_count": null,
      "metadata": {
        "id": "j_YmhryweUk-"
      },
      "outputs": [],
      "source": [
        "a_numpy_2d_array = np.array([[11,12],[13,14]])\n",
        "a_numpy_2d_array"
      ]
    },
    {
      "cell_type": "code",
      "execution_count": null,
      "metadata": {
        "id": "moLqbKd7eUk-"
      },
      "outputs": [],
      "source": [
        "a_numpy_2d_array[:,0]"
      ]
    },
    {
      "cell_type": "markdown",
      "metadata": {
        "id": "RupzPr5EeUk-"
      },
      "source": [
        "**Q5: Can you switch the [row,column] indices on this array?**"
      ]
    },
    {
      "cell_type": "code",
      "execution_count": null,
      "metadata": {
        "id": "-yYzb2xzeUk-"
      },
      "outputs": [],
      "source": [
        "#Solution to Q5\n"
      ]
    },
    {
      "cell_type": "markdown",
      "metadata": {
        "id": "TwbXwPtGeUk_"
      },
      "source": [
        "<h2><center> Reshaping Arrays </center></h2>"
      ]
    },
    {
      "cell_type": "code",
      "execution_count": null,
      "metadata": {
        "id": "paWKwoDReUk_"
      },
      "outputs": [],
      "source": [
        "numpy_digits_array = np.arange(0,9)\n",
        "print(numpy_digits_array, \" Shape: \", numpy_digits_array.shape)"
      ]
    },
    {
      "cell_type": "code",
      "execution_count": null,
      "metadata": {
        "id": "sW84nux4eUk_"
      },
      "outputs": [],
      "source": [
        "numpy_digits_array_2D = numpy_digits_array.reshape([3,3])\n",
        "print(numpy_digits_array_2D, \" Shape: \", numpy_digits_array_2D.shape)"
      ]
    },
    {
      "cell_type": "code",
      "execution_count": null,
      "metadata": {
        "id": "UwYy9avteUk_"
      },
      "outputs": [],
      "source": [
        "numpy_digits_array_2D_back_to_1D = numpy_digits_array_2D.reshape(-1)\n",
        "print(numpy_digits_array_2D_back_to_1D, \" Shape: \", numpy_digits_array_2D_back_to_1D.shape)"
      ]
    },
    {
      "cell_type": "markdown",
      "metadata": {
        "id": "-2jtaXVceUk_"
      },
      "source": [
        "<h2><center> Arithmetic </center></h2>"
      ]
    },
    {
      "cell_type": "code",
      "execution_count": null,
      "metadata": {
        "id": "5IN8YF0geUk_"
      },
      "outputs": [],
      "source": [
        "a = np.array([[10,11],[12,13]])\n",
        "b = np.array([[1,-1],[-1,1]])\n",
        "print(\"a:\\n\", a)\n",
        "print(\"b:\\n\", b)"
      ]
    },
    {
      "cell_type": "code",
      "execution_count": null,
      "metadata": {
        "id": "I3RyuC5_eUk_"
      },
      "outputs": [],
      "source": [
        "print(\"a*b:\\n\", a*b)\n",
        "print(\"a+b:\\n\", a+b)"
      ]
    },
    {
      "cell_type": "code",
      "execution_count": null,
      "metadata": {
        "id": "tu1ijaWzeUk_"
      },
      "outputs": [],
      "source": [
        "print(\"Matrix multiplication of a and b:\\n\",np.matmul(a,b))"
      ]
    },
    {
      "cell_type": "code",
      "execution_count": null,
      "metadata": {
        "id": "HOrFYltPeUlA"
      },
      "outputs": [],
      "source": [
        "np.sum(a)"
      ]
    },
    {
      "cell_type": "code",
      "execution_count": null,
      "metadata": {
        "id": "cTX7fnuteUlA"
      },
      "outputs": [],
      "source": [
        "print(a)\n",
        "print(\"Sum all entries: \", np.sum(a))\n",
        "print(\"Sum along lines: \", np.sum(a, axis=1))\n",
        "print(\"Sum along columns: \", np.sum(a, axis=0))\n",
        "\n",
        "#axis: the dimension of the array that will be colapsed"
      ]
    },
    {
      "cell_type": "markdown",
      "metadata": {
        "id": "sgDzQELteUlA"
      },
      "source": [
        "**Q7: Axis are important: Can you get the maximum over columns of these matrices? And the minimum over lines?**"
      ]
    },
    {
      "cell_type": "code",
      "source": [
        "import numpy as np\n",
        "a_numpy_2d_array = np.array([[11,12],[13,14]])\n",
        "a_numpy_2d_array"
      ],
      "metadata": {
        "id": "PThwZh0ii44E"
      },
      "execution_count": null,
      "outputs": []
    },
    {
      "cell_type": "code",
      "execution_count": null,
      "metadata": {
        "id": "8-Bd0lRveUlA"
      },
      "outputs": [],
      "source": [
        "# Solution to Q7\n",
        "\n"
      ]
    },
    {
      "cell_type": "markdown",
      "metadata": {
        "id": "LORq1swFeUlA"
      },
      "source": [
        "<h1><center> Broadcasting </center></h1>"
      ]
    },
    {
      "cell_type": "code",
      "execution_count": null,
      "metadata": {
        "id": "j0ZIRhtweUlA"
      },
      "outputs": [],
      "source": [
        "a = np.array([2.0, 4.0, 6.0])\n",
        "b = np.array([7.0, 8.0, 9.0, 10.0])\n",
        "print(a,\"  \",b)"
      ]
    },
    {
      "cell_type": "code",
      "execution_count": null,
      "metadata": {
        "id": "73h46y7beUlA"
      },
      "outputs": [],
      "source": [
        "a+b\n",
        "\n",
        "# Error? Understand why..."
      ]
    }
  ]
}